{
  "metadata": {
    "kernelspec": {
      "name": "python",
      "display_name": "Pyolite",
      "language": "python"
    },
    "language_info": {
      "codemirror_mode": {
        "name": "python",
        "version": 3
      },
      "file_extension": ".py",
      "mimetype": "text/x-python",
      "name": "python",
      "nbconvert_exporter": "python",
      "pygments_lexer": "ipython3",
      "version": "3.8"
    }
  },
  "nbformat_minor": 4,
  "nbformat": 4,
  "cells": [
    {
      "cell_type": "markdown",
      "source": "<center>\n    <img src=\"https://cf-courses-data.s3.us.cloud-object-storage.appdomain.cloud/IBMDeveloperSkillsNetwork-DS0105EN-SkillsNetwork/labs/Module2/images/SN_web_lightmode.png\" width=\"300\" alt=\"cognitiveclass.ai logo\"  />\n</center>\n",
      "metadata": {}
    },
    {
      "cell_type": "markdown",
      "source": "#### Add your code below following the instructions given in the course\n",
      "metadata": {}
    },
    {
      "cell_type": "markdown",
      "source": "<h1>My Jupyter Notebook on IBM Watson Studio</h1>",
      "metadata": {}
    },
    {
      "cell_type": "markdown",
      "source": "<strong>Omole Victor</strong>\n<p>Data Scientist and Machine learning developer</p>",
      "metadata": {}
    },
    {
      "cell_type": "markdown",
      "source": "<i>I am a data scientist enthusiast\nand machine learning developer</i>",
      "metadata": {}
    },
    {
      "cell_type": "markdown",
      "source": "<h3>The below cell runs simple comutation of addition as a simple practice</h3>",
      "metadata": {}
    },
    {
      "cell_type": "code",
      "source": "print(\"The sum of 1 + 1 is:\", str(1+1))",
      "metadata": {
        "trusted": true
      },
      "execution_count": 4,
      "outputs": [
        {
          "name": "stdout",
          "text": "The sum of 1 + 1 is: 2\n",
          "output_type": "stream"
        }
      ]
    },
    {
      "cell_type": "markdown",
      "source": "<ul>\n    <li>Cat</li>\n    <li>Goat</li>\n</ul>\n\n<ol>\n    <li>Table</li>\n    <li>Chair</li>\n</ol>\n\n<table>\n    <thead>A new table</thead>\n    <th>\n        <td>Player<td>\n        <td>Wing<td>\n        <td>Goals<td>\n    </th>\n</table>",
      "metadata": {}
    }
  ]
}